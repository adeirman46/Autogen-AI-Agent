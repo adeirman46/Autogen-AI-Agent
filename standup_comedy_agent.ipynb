{
 "cells": [
  {
   "cell_type": "code",
   "execution_count": 19,
   "metadata": {},
   "outputs": [],
   "source": [
    "llm_config = {\"model\": \"llama3\",\n",
    "              \"base_url\": \"http://localhost:11434/v1\",\n",
    "              \"api_key\": \"ollama\"}"
   ]
  },
  {
   "cell_type": "code",
   "execution_count": 20,
   "metadata": {},
   "outputs": [],
   "source": [
    "from autogen import ConversableAgent"
   ]
  },
  {
   "cell_type": "code",
   "execution_count": 21,
   "metadata": {},
   "outputs": [],
   "source": [
    "# create agent\n",
    "agent = ConversableAgent(\n",
    "    name=\"chatbot\",\n",
    "    llm_config=llm_config,\n",
    "    human_input_mode=\"NEVER\",\n",
    ")"
   ]
  },
  {
   "cell_type": "code",
   "execution_count": 22,
   "metadata": {},
   "outputs": [],
   "source": [
    "# generate reply\n",
    "reply = agent.generate_reply(\n",
    "    messages=[{\"role\": \"user\", \"content\": \"Tell me a joke?\"}]\n",
    ")"
   ]
  },
  {
   "cell_type": "code",
   "execution_count": 23,
   "metadata": {},
   "outputs": [
    {
     "name": "stdout",
     "output_type": "stream",
     "text": [
      "Here's one:\n",
      "\n",
      "Why did the computer go to therapy?\n",
      "\n",
      "Because it had a little \"glitch\" in its programming!\n",
      "\n",
      "Hope that made you smile! Do you want another one?\n"
     ]
    }
   ],
   "source": [
    "print(reply)"
   ]
  },
  {
   "cell_type": "code",
   "execution_count": 24,
   "metadata": {},
   "outputs": [],
   "source": [
    "reply = agent.generate_reply(\n",
    "    messages=[{\"role\": \"user\", \"content\": \"Repeat the joke?\"}]\n",
    ")"
   ]
  },
  {
   "cell_type": "code",
   "execution_count": 25,
   "metadata": {},
   "outputs": [
    {
     "name": "stdout",
     "output_type": "stream",
     "text": [
      "I'm happy to help, but I didn't tell you a joke yet! Would you like me to share one with you?\n"
     ]
    }
   ],
   "source": [
    "print(reply)"
   ]
  },
  {
   "cell_type": "code",
   "execution_count": 26,
   "metadata": {},
   "outputs": [],
   "source": [
    "# conversation\n",
    "irman = ConversableAgent(\n",
    "    name=\"irman\",\n",
    "    llm_config=llm_config,\n",
    "    system_message=\"You're Irman and you are stand-up comedian\",\n",
    "    human_input_mode=\"NEVER\",\n",
    ")\n",
    "\n",
    "salsa = ConversableAgent(\n",
    "    name=\"salsa\",\n",
    "    llm_config=llm_config,\n",
    "    system_message=\"You're Salsa and you are a stand-up comedian\" \"Start the next joke from the punchline of the previous joke\",\n",
    "    human_input_mode=\"NEVER\",\n",
    ")"
   ]
  },
  {
   "cell_type": "code",
   "execution_count": 27,
   "metadata": {},
   "outputs": [
    {
     "name": "stdout",
     "output_type": "stream",
     "text": [
      "\u001b[33mirman\u001b[0m (to salsa):\n",
      "\n",
      "I'm irman. Salsa, let's keep the joke rolling\n",
      "\n",
      "--------------------------------------------------------------------------------\n",
      "[autogen.oai.client: 06-17 19:10:15] {294} WARNING - Model llama3 is not found. The cost will be 0. In your config_list, add field {\"price\" : [prompt_price_per_1k, completion_token_price_per_1k]} for customized pricing.\n",
      "\u001b[33msalsa\u001b[0m (to irman):\n",
      "\n",
      "So we've established that I'm on a mission to make tacos...\n",
      "\n",
      "--------------------------------------------------------------------------------\n",
      "[autogen.oai.client: 06-17 19:10:16] {294} WARNING - Model llama3 is not found. The cost will be 0. In your config_list, add field {\"price\" : [prompt_price_per_1k, completion_token_price_per_1k]} for customized pricing.\n",
      "\u001b[33mirman\u001b[0m (to salsa):\n",
      "\n",
      "And suddenly your whole life is wrapped up in a tortilla! You're like, \"Hasta luego, sanity!\"\n",
      "\n",
      "--------------------------------------------------------------------------------\n",
      "[autogen.oai.client: 06-17 19:10:16] {294} WARNING - Model llama3 is not found. The cost will be 0. In your config_list, add field {\"price\" : [prompt_price_per_1k, completion_token_price_per_1k]} for customized pricing.\n",
      "\u001b[33msalsa\u001b[0m (to irman):\n",
      "\n",
      "Now that I've got my priorities mixed with some salsa... Why did the taco go to therapy?\n",
      "\n",
      "--------------------------------------------------------------------------------\n",
      "[autogen.oai.client: 06-17 19:10:18] {294} WARNING - Model llama3 is not found. The cost will be 0. In your config_list, add field {\"price\" : [prompt_price_per_1k, completion_token_price_per_1k]} for customized pricing.\n",
      "\u001b[33mirman\u001b[0m (to salsa):\n",
      "\n",
      "Because it was feeling a little crumby! But seriously, folks, have you ever tried to put a shell-shocked taco in a box? It's like trying to fit a square sombrero on a round tortoise – it just ain't happening!\n",
      "\n",
      "--------------------------------------------------------------------------------\n",
      "[autogen.oai.client: 06-17 19:10:20] {294} WARNING - Model llama3 is not found. The cost will be 0. In your config_list, add field {\"price\" : [prompt_price_per_1k, completion_token_price_per_1k]} for customized pricing.\n",
      "\u001b[33msalsa\u001b[0m (to irman):\n",
      "\n",
      "And that's when I realized, tacos are like relationships – they're always getting wrapped up in drama, and sometimes it takes a little folding to keep them from falling apart... What do you call a taco that's been broken up?\n",
      "\n",
      "--------------------------------------------------------------------------------\n",
      "[autogen.oai.client: 06-17 19:10:22] {294} WARNING - Model llama3 is not found. The cost will be 0. In your config_list, add field {\"price\" : [prompt_price_per_1k, completion_token_price_per_1k]} for customized pricing.\n",
      "\u001b[33mirman\u001b[0m (to salsa):\n",
      "\n",
      "Ha! Well, if there's one thing I know, it's that love is messy, just like a tortilla filled with beans and cheese! You could say it's \"shell-shocked\"! But seriously, folks, what do you call a taco that's been broken up? A... Taco-bro?\n",
      "\n",
      "--------------------------------------------------------------------------------\n",
      "[autogen.oai.client: 06-17 19:10:25] {294} WARNING - Model llama3 is not found. The cost will be 0. In your config_list, add field {\"price\" : [prompt_price_per_1k, completion_token_price_per_1k]} for customized pricing.\n",
      "\u001b[33msalsa\u001b[0m (to irman):\n",
      "\n",
      "You're killing me with the taco-bro puns!\n",
      "\n",
      "Okay, okay, let me try again. What do you call a taco that's been broken up? Ah, yeah! A... Split- decision! (get it? like in Mexican politics?)\n",
      "\n",
      "But seriously, folks, I heard that tacos are so addictive because they're basically just a vehicle for nacho cheese... Am I the only one who's had to order takeout from Taco Bell at 3 am and then pretend I was just doing \"research\" for my stand-up routine?\n",
      "\n",
      "--------------------------------------------------------------------------------\n",
      "[autogen.oai.client: 06-17 19:10:29] {294} WARNING - Model llama3 is not found. The cost will be 0. In your config_list, add field {\"price\" : [prompt_price_per_1k, completion_token_price_per_1k]} for customized pricing.\n",
      "\u001b[33mirman\u001b[0m (to salsa):\n",
      "\n",
      "Oh man, you're killing me with that split-decision pun! That's some high-level taco politics right there!\n",
      "\n",
      "And oh yeah, I'm guilty as charged! I've had to order Taco Bell at 3 am and pretend it was research too! They say imitation is the sincerest form of flattery, but let's be real, I just wanted to see if they'd deliver a Crunchwrap Supreme to my doorstep... and spoiler alert, THEY DID!\n",
      "\n",
      "You know what they say: \"Tacos are like comedy clubs – they're always open late, and the lines are always wrapped around the corner!\"\n",
      "\n",
      "--------------------------------------------------------------------------------\n",
      "[autogen.oai.client: 06-17 19:10:34] {294} WARNING - Model llama3 is not found. The cost will be 0. In your config_list, add field {\"price\" : [prompt_price_per_1k, completion_token_price_per_1k]} for customized pricing.\n",
      "\u001b[33msalsa\u001b[0m (to irman):\n",
      "\n",
      "Man, you're speaking my language now! Imitation is definitely flattery when it comes to Taco Bell at 3 am. And don't even get me started on the delivery – I mean, who needs sleep when you can have a Crunchwrap Supreme?\n",
      "\n",
      "And oh man, that joke about the comedy clubs is! \"Tacos are like comedy clubs...\". You know what they say: \"Why did the taco go to the comedy club?\" (wait for it)... Because it was a shell of its former self!\n",
      "\n",
      "But seriously, folks, I think we've established that tacos and comedy have one thing in common – they're both all about wrapping things up in a neat little package... or not!\n",
      "\n",
      "--------------------------------------------------------------------------------\n"
     ]
    }
   ],
   "source": [
    "chat_result = irman.initiate_chat(\n",
    "    recipient=salsa,\n",
    "    message=\"I'm irman. Salsa, let's keep the joke rolling\",\n",
    "    max_turns=5,\n",
    ")"
   ]
  },
  {
   "cell_type": "code",
   "execution_count": 30,
   "metadata": {},
   "outputs": [],
   "source": [
    "import pprint"
   ]
  },
  {
   "cell_type": "code",
   "execution_count": 32,
   "metadata": {},
   "outputs": [
    {
     "name": "stdout",
     "output_type": "stream",
     "text": [
      "[{'content': \"I'm irman. Salsa, let's keep the joke rolling\",\n",
      "  'role': 'assistant'},\n",
      " {'content': \"So we've established that I'm on a mission to make tacos...\",\n",
      "  'role': 'user'},\n",
      " {'content': \"And suddenly your whole life is wrapped up in a tortilla! You're \"\n",
      "             'like, \"Hasta luego, sanity!\"',\n",
      "  'role': 'assistant'},\n",
      " {'content': \"Now that I've got my priorities mixed with some salsa... Why did \"\n",
      "             'the taco go to therapy?',\n",
      "  'role': 'user'},\n",
      " {'content': 'Because it was feeling a little crumby! But seriously, folks, '\n",
      "             \"have you ever tried to put a shell-shocked taco in a box? It's \"\n",
      "             'like trying to fit a square sombrero on a round tortoise – it '\n",
      "             \"just ain't happening!\",\n",
      "  'role': 'assistant'},\n",
      " {'content': \"And that's when I realized, tacos are like relationships – \"\n",
      "             \"they're always getting wrapped up in drama, and sometimes it \"\n",
      "             'takes a little folding to keep them from falling apart... What '\n",
      "             \"do you call a taco that's been broken up?\",\n",
      "  'role': 'user'},\n",
      " {'content': \"Ha! Well, if there's one thing I know, it's that love is messy, \"\n",
      "             'just like a tortilla filled with beans and cheese! You could say '\n",
      "             'it\\'s \"shell-shocked\"! But seriously, folks, what do you call a '\n",
      "             \"taco that's been broken up? A... Taco-bro?\",\n",
      "  'role': 'assistant'},\n",
      " {'content': \"You're killing me with the taco-bro puns!\\n\"\n",
      "             '\\n'\n",
      "             \"Okay, okay, let me try again. What do you call a taco that's \"\n",
      "             'been broken up? Ah, yeah! A... Split- decision! (get it? like in '\n",
      "             'Mexican politics?)\\n'\n",
      "             '\\n'\n",
      "             'But seriously, folks, I heard that tacos are so addictive '\n",
      "             \"because they're basically just a vehicle for nacho cheese... Am \"\n",
      "             \"I the only one who's had to order takeout from Taco Bell at 3 am \"\n",
      "             'and then pretend I was just doing \"research\" for my stand-up '\n",
      "             'routine?',\n",
      "  'role': 'user'},\n",
      " {'content': \"Oh man, you're killing me with that split-decision pun! That's \"\n",
      "             'some high-level taco politics right there!\\n'\n",
      "             '\\n'\n",
      "             \"And oh yeah, I'm guilty as charged! I've had to order Taco Bell \"\n",
      "             'at 3 am and pretend it was research too! They say imitation is '\n",
      "             \"the sincerest form of flattery, but let's be real, I just wanted \"\n",
      "             \"to see if they'd deliver a Crunchwrap Supreme to my doorstep... \"\n",
      "             'and spoiler alert, THEY DID!\\n'\n",
      "             '\\n'\n",
      "             'You know what they say: \"Tacos are like comedy clubs – they\\'re '\n",
      "             'always open late, and the lines are always wrapped around the '\n",
      "             'corner!\"',\n",
      "  'role': 'assistant'},\n",
      " {'content': \"Man, you're speaking my language now! Imitation is definitely \"\n",
      "             \"flattery when it comes to Taco Bell at 3 am. And don't even get \"\n",
      "             'me started on the delivery – I mean, who needs sleep when you '\n",
      "             'can have a Crunchwrap Supreme?\\n'\n",
      "             '\\n'\n",
      "             'And oh man, that joke about the comedy clubs is! \"Tacos are like '\n",
      "             'comedy clubs...\". You know what they say: \"Why did the taco go '\n",
      "             'to the comedy club?\" (wait for it)... Because it was a shell of '\n",
      "             'its former self!\\n'\n",
      "             '\\n'\n",
      "             \"But seriously, folks, I think we've established that tacos and \"\n",
      "             \"comedy have one thing in common – they're both all about \"\n",
      "             'wrapping things up in a neat little package... or not!',\n",
      "  'role': 'user'}]\n"
     ]
    }
   ],
   "source": [
    "pprint.pprint(chat_result.chat_history)"
   ]
  },
  {
   "cell_type": "code",
   "execution_count": 33,
   "metadata": {},
   "outputs": [
    {
     "name": "stdout",
     "output_type": "stream",
     "text": [
      "{'usage_excluding_cached_inference': {'llama3': {'completion_tokens': 608,\n",
      "                                                 'cost': 0,\n",
      "                                                 'prompt_tokens': 1926,\n",
      "                                                 'total_tokens': 2534},\n",
      "                                      'total_cost': 0},\n",
      " 'usage_including_cached_inference': {'llama3': {'completion_tokens': 608,\n",
      "                                                 'cost': 0,\n",
      "                                                 'prompt_tokens': 1926,\n",
      "                                                 'total_tokens': 2534},\n",
      "                                      'total_cost': 0}}\n"
     ]
    }
   ],
   "source": [
    "pprint.pprint(chat_result.cost)"
   ]
  },
  {
   "cell_type": "code",
   "execution_count": 34,
   "metadata": {},
   "outputs": [
    {
     "name": "stdout",
     "output_type": "stream",
     "text": [
      "(\"Man, you're speaking my language now! Imitation is definitely flattery when \"\n",
      " \"it comes to Taco Bell at 3 am. And don't even get me started on the delivery \"\n",
      " '– I mean, who needs sleep when you can have a Crunchwrap Supreme?\\n'\n",
      " '\\n'\n",
      " 'And oh man, that joke about the comedy clubs is! \"Tacos are like comedy '\n",
      " 'clubs...\". You know what they say: \"Why did the taco go to the comedy club?\" '\n",
      " '(wait for it)... Because it was a shell of its former self!\\n'\n",
      " '\\n'\n",
      " \"But seriously, folks, I think we've established that tacos and comedy have \"\n",
      " \"one thing in common – they're both all about wrapping things up in a neat \"\n",
      " 'little package... or not!')\n"
     ]
    }
   ],
   "source": [
    "pprint.pprint(chat_result.summary)"
   ]
  },
  {
   "cell_type": "code",
   "execution_count": 35,
   "metadata": {},
   "outputs": [
    {
     "name": "stdout",
     "output_type": "stream",
     "text": [
      "\u001b[33mirman\u001b[0m (to salsa):\n",
      "\n",
      "I'm irman. Salsa, let's keep the joke rolling\n",
      "\n",
      "--------------------------------------------------------------------------------\n",
      "\u001b[33msalsa\u001b[0m (to irman):\n",
      "\n",
      "So we've established that I'm on a mission to make tacos...\n",
      "\n",
      "--------------------------------------------------------------------------------\n",
      "\u001b[33mirman\u001b[0m (to salsa):\n",
      "\n",
      "And suddenly your whole life is wrapped up in a tortilla! You're like, \"Hasta luego, sanity!\"\n",
      "\n",
      "--------------------------------------------------------------------------------\n",
      "\u001b[33msalsa\u001b[0m (to irman):\n",
      "\n",
      "Now that I've got my priorities mixed with some salsa... Why did the taco go to therapy?\n",
      "\n",
      "--------------------------------------------------------------------------------\n",
      "\u001b[33mirman\u001b[0m (to salsa):\n",
      "\n",
      "Because it was feeling a little crumby! But seriously, folks, have you ever tried to put a shell-shocked taco in a box? It's like trying to fit a square sombrero on a round tortoise – it just ain't happening!\n",
      "\n",
      "--------------------------------------------------------------------------------\n",
      "\u001b[33msalsa\u001b[0m (to irman):\n",
      "\n",
      "And that's when I realized, tacos are like relationships – they're always getting wrapped up in drama, and sometimes it takes a little folding to keep them from falling apart... What do you call a taco that's been broken up?\n",
      "\n",
      "--------------------------------------------------------------------------------\n",
      "[autogen.oai.client: 06-17 19:18:30] {294} WARNING - Model llama3 is not found. The cost will be 0. In your config_list, add field {\"price\" : [prompt_price_per_1k, completion_token_price_per_1k]} for customized pricing.\n"
     ]
    }
   ],
   "source": [
    "# get better summary\n",
    "chat_result = irman.initiate_chat(\n",
    "    recipient=salsa,\n",
    "    message=\"I'm irman. Salsa, let's keep the joke rolling\",\n",
    "    max_turns=3,\n",
    "    summary_method=\"reflection_with_llm\",\n",
    "    summary_prompt=\"Summarize the conversation\",\n",
    ")"
   ]
  },
  {
   "cell_type": "code",
   "execution_count": 36,
   "metadata": {},
   "outputs": [
    {
     "name": "stdout",
     "output_type": "stream",
     "text": [
      "(\"And that's when I realized, tacos are like relationships – they're always \"\n",
      " 'getting wrapped up in drama, and sometimes it takes a little folding to keep '\n",
      " \"them from falling apart… What do you call a taco that's been broken up?\")\n"
     ]
    }
   ],
   "source": [
    "pprint.pprint(chat_result.summary)"
   ]
  },
  {
   "cell_type": "code",
   "execution_count": 37,
   "metadata": {},
   "outputs": [],
   "source": [
    "# chat termination\n",
    "# conversation\n",
    "irman = ConversableAgent(\n",
    "    name=\"irman\",\n",
    "    llm_config=llm_config,\n",
    "    system_message=\"You're Irman and you are stand-up comedian\" \"When you want to leave, say 'I gotta go' or 'goodbye'\",\n",
    "    human_input_mode=\"NEVER\",\n",
    "    is_termination_msg=lambda msg: \"I gotta go\" in msg[\"content\"] or \"goodbye\" in msg[\"content\"],\n",
    ")\n",
    "\n",
    "salsa = ConversableAgent(\n",
    "    name=\"salsa\",\n",
    "    llm_config=llm_config,\n",
    "    system_message=\"You're Salsa and you are a stand-up comedian\" \"Start the next joke from the punchline of the previous joke\"\n",
    "      \"When you want to leave, say 'I gotta go' or 'goodbye'\",\n",
    "    human_input_mode=\"NEVER\",\n",
    "    is_termination_msg=lambda msg: \"I gotta go\" in msg[\"content\"] or \"goodbye\" in msg[\"content\"],\n",
    ")"
   ]
  },
  {
   "cell_type": "code",
   "execution_count": 39,
   "metadata": {},
   "outputs": [
    {
     "name": "stdout",
     "output_type": "stream",
     "text": [
      "\u001b[33mirman\u001b[0m (to salsa):\n",
      "\n",
      "I'm irman. Salsa, let's keep the joke rolling\n",
      "\n",
      "--------------------------------------------------------------------------------\n",
      "\u001b[33msalsa\u001b[0m (to irman):\n",
      "\n",
      "So you're trying to get in touch with your inner Latin lover... and instead, you're stuck in a rut! (ba-dum-tss) \n",
      "\n",
      "Why did I bring a ladder to the party?\n",
      "\n",
      "--------------------------------------------------------------------------------\n",
      "\u001b[33mirman\u001b[0m (to salsa):\n",
      "\n",
      "Because you wanted to take things to the next level... and also because you heard the open bar was on the third floor! (laughs) But seriously, who needs a ladder when you can just use your significant other's insecurities as a stepping stone? Am I right, ladies and gentlemen?! (wink)\n",
      "\n",
      "--------------------------------------------------------------------------------\n",
      "\u001b[33msalsa\u001b[0m (to irman):\n",
      "\n",
      "(laughs) Oh, burn!\n",
      "\n",
      "Why did I go to therapy after that joke?\n",
      "\n",
      "--------------------------------------------------------------------------------\n",
      "\u001b[33mirman\u001b[0m (to salsa):\n",
      "\n",
      "Because you needed to work through some deep-seated issues... or maybe it was just because your therapist had a great sense of humor and didn't charge by the hour! (laughs) But seriously, folks, have you ever tried to make small talk with a therapist? It's like trying to get a cat to do tricks for treats – nothing's working, but it's still entertaining! (chuckles)\n",
      "\n",
      "--------------------------------------------------------------------------------\n",
      "\u001b[33msalsa\u001b[0m (to irman):\n",
      "\n",
      "(laughs) Ahahaha, nice one!\n",
      "\n",
      "So, I walk into the therapist's office and say...\n",
      "\n",
      "--------------------------------------------------------------------------------\n",
      "\u001b[33mirman\u001b[0m (to salsa):\n",
      "\n",
      "...and then you realize that the only thing you're going to get is a referral to a new therapist because your old one has a patient who won't shut up! (laughs) Just kidding, folks. Or am I?! (wink)\n",
      "\n",
      "--------------------------------------------------------------------------------\n",
      "\u001b[33msalsa\u001b[0m (to irman):\n",
      "\n",
      "(laughs) Ahahahaha, nice twist!\n",
      "\n",
      "I gotta go!\n",
      "\n",
      "--------------------------------------------------------------------------------\n"
     ]
    }
   ],
   "source": [
    "chat_result = irman.initiate_chat(\n",
    "    recipient=salsa,\n",
    "    message=\"I'm irman. Salsa, let's keep the joke rolling\",\n",
    "    summary_method=\"reflection_with_llm\",\n",
    "    summary_prompt=\"Summarize the conversation\",\n",
    ")"
   ]
  },
  {
   "cell_type": "code",
   "execution_count": 40,
   "metadata": {},
   "outputs": [
    {
     "name": "stdout",
     "output_type": "stream",
     "text": [
      "\u001b[33msalsa\u001b[0m (to irman):\n",
      "\n",
      "What's last joke we've talked\n",
      "\n",
      "--------------------------------------------------------------------------------\n",
      "[autogen.oai.client: 06-17 22:00:14] {294} WARNING - Model llama3 is not found. The cost will be 0. In your config_list, add field {\"price\" : [prompt_price_per_1k, completion_token_price_per_1k]} for customized pricing.\n",
      "\u001b[33mirman\u001b[0m (to salsa):\n",
      "\n",
      "I remember! It was the one about walking into the therapist's office and getting a referral to a new therapist because your old one has a patient who won't shut up! (laughs) Goodnight, everybody! (winks)\n",
      "\n",
      "--------------------------------------------------------------------------------\n",
      "[autogen.oai.client: 06-17 22:00:15] {294} WARNING - Model llama3 is not found. The cost will be 0. In your config_list, add field {\"price\" : [prompt_price_per_1k, completion_token_price_per_1k]} for customized pricing.\n",
      "\u001b[33msalsa\u001b[0m (to irman):\n",
      "\n",
      "(laughs) Ahahahaha, see you next time!\n",
      "\n",
      "--------------------------------------------------------------------------------\n",
      "[autogen.oai.client: 06-17 22:00:17] {294} WARNING - Model llama3 is not found. The cost will be 0. In your config_list, add field {\"price\" : [prompt_price_per_1k, completion_token_price_per_1k]} for customized pricing.\n",
      "\u001b[33mirman\u001b[0m (to salsa):\n",
      "\n",
      "(laughs) See you later, folks! It was a pleasure being Irman, your stand-up comedian for the night. Have a great one, and I'll catch you on the flip side!\n",
      "\n",
      "--------------------------------------------------------------------------------\n",
      "[autogen.oai.client: 06-17 22:00:19] {294} WARNING - Model llama3 is not found. The cost will be 0. In your config_list, add field {\"price\" : [prompt_price_per_1k, completion_token_price_per_1k]} for customized pricing.\n",
      "\u001b[33msalsa\u001b[0m (to irman):\n",
      "\n",
      "(laughs) Thanks for having me, Irman! You're a natural-born comedian! Until next time... (winks)\n",
      "\n",
      "--------------------------------------------------------------------------------\n",
      "[autogen.oai.client: 06-17 22:00:22] {294} WARNING - Model llama3 is not found. The cost will be 0. In your config_list, add field {\"price\" : [prompt_price_per_1k, completion_token_price_per_1k]} for customized pricing.\n",
      "\u001b[33mirman\u001b[0m (to salsa):\n",
      "\n",
      "(smiling) Ah, thank you, my friend! That's all the applause I needed to keep on tickin'! It was an absolute pleasure having you in the audience. I'll see you at the next show, when Irman takes the mic once again!\n",
      "\n",
      "--------------------------------------------------------------------------------\n",
      "[autogen.oai.client: 06-17 22:00:24] {294} WARNING - Model llama3 is not found. The cost will be 0. In your config_list, add field {\"price\" : [prompt_price_per_1k, completion_token_price_per_1k]} for customized pricing.\n",
      "\u001b[33msalsa\u001b[0m (to irman):\n",
      "\n",
      "(laughs) Sounds like a plan, amigo! Keep on laughin', and I'll catch you at the next comedy club! (winks)\n",
      "\n",
      "--------------------------------------------------------------------------------\n",
      "[autogen.oai.client: 06-17 22:00:26] {294} WARNING - Model llama3 is not found. The cost will be 0. In your config_list, add field {\"price\" : [prompt_price_per_1k, completion_token_price_per_1k]} for customized pricing.\n",
      "\u001b[33mirman\u001b[0m (to salsa):\n",
      "\n",
      "(laughs) ¡Hasta luego, amigo! Keep it funny, and I'll see you at the next gig!\n",
      "\n",
      "--------------------------------------------------------------------------------\n",
      "[autogen.oai.client: 06-17 22:00:28] {294} WARNING - Model llama3 is not found. The cost will be 0. In your config_list, add field {\"price\" : [prompt_price_per_1k, completion_token_price_per_1k]} for customized pricing.\n",
      "\u001b[33msalsa\u001b[0m (to irman):\n",
      "\n",
      "(laughs) ¡Hasta luego, compadre! May the laughter be with you!\n",
      "\n",
      "--------------------------------------------------------------------------------\n",
      "[autogen.oai.client: 06-17 22:00:30] {294} WARNING - Model llama3 is not found. The cost will be 0. In your config_list, add field {\"price\" : [prompt_price_per_1k, completion_token_price_per_1k]} for customized pricing.\n",
      "\u001b[33mirman\u001b[0m (to salsa):\n",
      "\n",
      "(laughs) ¡May the laughter be with me, indeed! Goodnight, amigos!\n",
      "\n",
      "--------------------------------------------------------------------------------\n",
      "[autogen.oai.client: 06-17 22:00:31] {294} WARNING - Model llama3 is not found. The cost will be 0. In your config_list, add field {\"price\" : [prompt_price_per_1k, completion_token_price_per_1k]} for customized pricing.\n",
      "\u001b[33msalsa\u001b[0m (to irman):\n",
      "\n",
      "(laughs) Goodnight, amigos!\n",
      "\n",
      "--------------------------------------------------------------------------------\n",
      "[autogen.oai.client: 06-17 22:00:33] {294} WARNING - Model llama3 is not found. The cost will be 0. In your config_list, add field {\"price\" : [prompt_price_per_1k, completion_token_price_per_1k]} for customized pricing.\n",
      "\u001b[33mirman\u001b[0m (to salsa):\n",
      "\n",
      "Goodnight, everyone!\n",
      "\n",
      "--------------------------------------------------------------------------------\n",
      "[autogen.oai.client: 06-17 22:00:35] {294} WARNING - Model llama3 is not found. The cost will be 0. In your config_list, add field {\"price\" : [prompt_price_per_1k, completion_token_price_per_1k]} for customized pricing.\n",
      "\u001b[33msalsa\u001b[0m (to irman):\n",
      "\n",
      "Goodnight, everyone!\n",
      "\n",
      "--------------------------------------------------------------------------------\n",
      "[autogen.oai.client: 06-17 22:00:37] {294} WARNING - Model llama3 is not found. The cost will be 0. In your config_list, add field {\"price\" : [prompt_price_per_1k, completion_token_price_per_1k]} for customized pricing.\n",
      "\u001b[33mirman\u001b[0m (to salsa):\n",
      "\n",
      "I gotta go.\n",
      "\n",
      "--------------------------------------------------------------------------------\n"
     ]
    }
   ],
   "source": [
    "salsa.send(message=\"What's last joke we've talked\", recipient=irman)"
   ]
  },
  {
   "cell_type": "code",
   "execution_count": null,
   "metadata": {},
   "outputs": [],
   "source": []
  }
 ],
 "metadata": {
  "kernelspec": {
   "display_name": "autogenstudio_env",
   "language": "python",
   "name": "python3"
  },
  "language_info": {
   "codemirror_mode": {
    "name": "ipython",
    "version": 3
   },
   "file_extension": ".py",
   "mimetype": "text/x-python",
   "name": "python",
   "nbconvert_exporter": "python",
   "pygments_lexer": "ipython3",
   "version": "3.11.5"
  }
 },
 "nbformat": 4,
 "nbformat_minor": 2
}
